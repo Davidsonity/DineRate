{
 "cells": [
  {
   "cell_type": "markdown",
   "id": "c26d549b-b7aa-4f5e-b308-e07d418e6f8d",
   "metadata": {
    "id": "c26d549b-b7aa-4f5e-b308-e07d418e6f8d",
    "tags": []
   },
   "source": [
    "# **Zomato Restaurants Ratings**\n",
    "\n",
    "## Table of Contents\n",
    "<ul>\n",
    "<li><a href=\"#assessment\">Data Assessment</a></li>\n",
    "<li><a href=\"#cleaning\">Data Cleaning</a></li>\n",
    "<li><a href=\"#explore\">Exploratory Data Analysis</a></li>\n",
    "<li><a href=\"#model\">Model Building</a></li>\n",
    "<li><a href=\"#conculsion\">Conculsion</a></li>\n",
    "<li><a href=\"#limitation\">Limitations</a></li>\n",
    "</ul>\n",
    "\n",
    "### INTRODUCTION\n",
    "#### Objectives\n",
    "The objective of this project is to build machine learning approach to predict the rating of a restaurant in Bangalore.\n",
    "\n",
    "#### About Dataset\n",
    "The data is accurate to that available on the zomato website until 15 March 2019.\n",
    "The data was scraped from Zomato in two phase. After going through the structure of the website I found that for each neighborhood there are 6-7 category of restaurants viz. Buffet, Cafes, Delivery, Desserts, Dine-out, Drinks & nightlife, Pubs and bars.\n",
    "\n",
    "Phase I,\n",
    "\n",
    "In Phase I of extraction only the URL, name and address of the restaurant were extracted which were visible on the front page. The URl's for each of the restaurants on the zomato were recorded in the csv file so that later the data can be extracted individually for each restaurant. This made the extraction process easier and reduced the extra load on my machine. The data for each neighborhood and each category can be found here\n",
    "\n",
    "Phase II,\n",
    "\n",
    "In Phase II the recorded data for each restaurant and each category was read and data for each restaurant was scraped individually. 15 variables were scraped in this phase. For each of the neighborhood and for each category their onlineorder, booktable, rate, votes, phone, location, resttype, dishliked, cuisines, approxcost(for two people), reviewslist, menu_item was extracted.\n",
    "\n",
    "Data Source: https://www.kaggle.com/datasets/himanshupoddar/zomato-bangalore-restaurants\n",
    "\n",
    "Columns Description: The following are the description of each columns in the dataset:\n",
    "- url: zomato url for the restaurants\n",
    "- address: complete location of the restaurant\n",
    "- name: name of the restaurant\n",
    "- online_order: whether restaurant accepts online order\n",
    "- book_table: whether restaurant provides option for booking table\n",
    "- rate: restaurants rating on zomato website\n",
    "- votes: number of individual who voted for restaurants\n",
    "- phone: contact details of the restaurant\n",
    "- localtion: area where restaurant is situated\n",
    "- rest_type: Type of restaurants (Categorical value)\n",
    "- dish_liked: what are all dishes of the restaurant that people liked\n",
    "- cuisines: cuisines offered by the restaurant\n",
    "- approx_cost(for two people): average cost for two people\n",
    "- review_list: reviews of the restaurant on zomato website\n",
    "- menu_item: menu items available in the restuarant\n",
    "- listed_in(type): type of the restaurant\n",
    "- listed_in(city): locality of the restaurant position"
   ]
  },
  {
   "cell_type": "markdown",
   "id": "053f917f-f77b-4119-9100-7a4f97c1b2cf",
   "metadata": {
    "tags": []
   },
   "source": [
    "### Preliminary Wrangling"
   ]
  },
  {
   "cell_type": "code",
   "execution_count": 1,
   "id": "ec60c750-5a34-4e9f-9618-5e0ea8c6744d",
   "metadata": {
    "id": "ec60c750-5a34-4e9f-9618-5e0ea8c6744d"
   },
   "outputs": [],
   "source": [
    "#IMPORT THE NECESSARY LIBRARIES\n",
    "import pandas as pd\n",
    "import numpy as np\n",
    "import matplotlib.pyplot as plt\n",
    "import re\n",
    "import seaborn as sns\n",
    "import plotly.express as px\n",
    "import plotly.figure_factory as ff\n",
    "%matplotlib inline\n",
    "\n",
    "import warnings\n",
    "warnings.filterwarnings('ignore')"
   ]
  },
  {
   "cell_type": "code",
   "execution_count": 2,
   "id": "1f5414be-c441-4ab8-b23c-710121fe7a90",
   "metadata": {
    "id": "1f5414be-c441-4ab8-b23c-710121fe7a90",
    "outputId": "2b588269-0817-4b82-d22b-65b45179216e"
   },
   "outputs": [],
   "source": [
    "df = pd.read_csv('zomato.csv')"
   ]
  },
  {
   "cell_type": "code",
   "execution_count": 3,
   "id": "b0d36b7e-5bda-4f72-9285-f5f456b552e2",
   "metadata": {},
   "outputs": [
    {
     "data": {
      "text/html": [
       "<div>\n",
       "<style scoped>\n",
       "    .dataframe tbody tr th:only-of-type {\n",
       "        vertical-align: middle;\n",
       "    }\n",
       "\n",
       "    .dataframe tbody tr th {\n",
       "        vertical-align: top;\n",
       "    }\n",
       "\n",
       "    .dataframe thead th {\n",
       "        text-align: right;\n",
       "    }\n",
       "</style>\n",
       "<table border=\"1\" class=\"dataframe\">\n",
       "  <thead>\n",
       "    <tr style=\"text-align: right;\">\n",
       "      <th></th>\n",
       "      <th>url</th>\n",
       "      <th>address</th>\n",
       "      <th>name</th>\n",
       "      <th>online_order</th>\n",
       "      <th>book_table</th>\n",
       "      <th>rate</th>\n",
       "      <th>votes</th>\n",
       "      <th>phone</th>\n",
       "      <th>location</th>\n",
       "      <th>rest_type</th>\n",
       "      <th>dish_liked</th>\n",
       "      <th>cuisines</th>\n",
       "      <th>approx_cost(for two people)</th>\n",
       "      <th>reviews_list</th>\n",
       "      <th>menu_item</th>\n",
       "      <th>listed_in(type)</th>\n",
       "      <th>listed_in(city)</th>\n",
       "    </tr>\n",
       "  </thead>\n",
       "  <tbody>\n",
       "    <tr>\n",
       "      <th>0</th>\n",
       "      <td>https://www.zomato.com/bangalore/jalsa-banasha...</td>\n",
       "      <td>942, 21st Main Road, 2nd Stage, Banashankari, ...</td>\n",
       "      <td>Jalsa</td>\n",
       "      <td>Yes</td>\n",
       "      <td>Yes</td>\n",
       "      <td>4.1/5</td>\n",
       "      <td>775</td>\n",
       "      <td>080 42297555\\r\\n+91 9743772233</td>\n",
       "      <td>Banashankari</td>\n",
       "      <td>Casual Dining</td>\n",
       "      <td>Pasta, Lunch Buffet, Masala Papad, Paneer Laja...</td>\n",
       "      <td>North Indian, Mughlai, Chinese</td>\n",
       "      <td>800</td>\n",
       "      <td>[('Rated 4.0', 'RATED\\n  A beautiful place to ...</td>\n",
       "      <td>[]</td>\n",
       "      <td>Buffet</td>\n",
       "      <td>Banashankari</td>\n",
       "    </tr>\n",
       "    <tr>\n",
       "      <th>1</th>\n",
       "      <td>https://www.zomato.com/bangalore/spice-elephan...</td>\n",
       "      <td>2nd Floor, 80 Feet Road, Near Big Bazaar, 6th ...</td>\n",
       "      <td>Spice Elephant</td>\n",
       "      <td>Yes</td>\n",
       "      <td>No</td>\n",
       "      <td>4.1/5</td>\n",
       "      <td>787</td>\n",
       "      <td>080 41714161</td>\n",
       "      <td>Banashankari</td>\n",
       "      <td>Casual Dining</td>\n",
       "      <td>Momos, Lunch Buffet, Chocolate Nirvana, Thai G...</td>\n",
       "      <td>Chinese, North Indian, Thai</td>\n",
       "      <td>800</td>\n",
       "      <td>[('Rated 4.0', 'RATED\\n  Had been here for din...</td>\n",
       "      <td>[]</td>\n",
       "      <td>Buffet</td>\n",
       "      <td>Banashankari</td>\n",
       "    </tr>\n",
       "    <tr>\n",
       "      <th>2</th>\n",
       "      <td>https://www.zomato.com/SanchurroBangalore?cont...</td>\n",
       "      <td>1112, Next to KIMS Medical College, 17th Cross...</td>\n",
       "      <td>San Churro Cafe</td>\n",
       "      <td>Yes</td>\n",
       "      <td>No</td>\n",
       "      <td>3.8/5</td>\n",
       "      <td>918</td>\n",
       "      <td>+91 9663487993</td>\n",
       "      <td>Banashankari</td>\n",
       "      <td>Cafe, Casual Dining</td>\n",
       "      <td>Churros, Cannelloni, Minestrone Soup, Hot Choc...</td>\n",
       "      <td>Cafe, Mexican, Italian</td>\n",
       "      <td>800</td>\n",
       "      <td>[('Rated 3.0', \"RATED\\n  Ambience is not that ...</td>\n",
       "      <td>[]</td>\n",
       "      <td>Buffet</td>\n",
       "      <td>Banashankari</td>\n",
       "    </tr>\n",
       "    <tr>\n",
       "      <th>3</th>\n",
       "      <td>https://www.zomato.com/bangalore/addhuri-udupi...</td>\n",
       "      <td>1st Floor, Annakuteera, 3rd Stage, Banashankar...</td>\n",
       "      <td>Addhuri Udupi Bhojana</td>\n",
       "      <td>No</td>\n",
       "      <td>No</td>\n",
       "      <td>3.7/5</td>\n",
       "      <td>88</td>\n",
       "      <td>+91 9620009302</td>\n",
       "      <td>Banashankari</td>\n",
       "      <td>Quick Bites</td>\n",
       "      <td>Masala Dosa</td>\n",
       "      <td>South Indian, North Indian</td>\n",
       "      <td>300</td>\n",
       "      <td>[('Rated 4.0', \"RATED\\n  Great food and proper...</td>\n",
       "      <td>[]</td>\n",
       "      <td>Buffet</td>\n",
       "      <td>Banashankari</td>\n",
       "    </tr>\n",
       "    <tr>\n",
       "      <th>4</th>\n",
       "      <td>https://www.zomato.com/bangalore/grand-village...</td>\n",
       "      <td>10, 3rd Floor, Lakshmi Associates, Gandhi Baza...</td>\n",
       "      <td>Grand Village</td>\n",
       "      <td>No</td>\n",
       "      <td>No</td>\n",
       "      <td>3.8/5</td>\n",
       "      <td>166</td>\n",
       "      <td>+91 8026612447\\r\\n+91 9901210005</td>\n",
       "      <td>Basavanagudi</td>\n",
       "      <td>Casual Dining</td>\n",
       "      <td>Panipuri, Gol Gappe</td>\n",
       "      <td>North Indian, Rajasthani</td>\n",
       "      <td>600</td>\n",
       "      <td>[('Rated 4.0', 'RATED\\n  Very good restaurant ...</td>\n",
       "      <td>[]</td>\n",
       "      <td>Buffet</td>\n",
       "      <td>Banashankari</td>\n",
       "    </tr>\n",
       "    <tr>\n",
       "      <th>...</th>\n",
       "      <td>...</td>\n",
       "      <td>...</td>\n",
       "      <td>...</td>\n",
       "      <td>...</td>\n",
       "      <td>...</td>\n",
       "      <td>...</td>\n",
       "      <td>...</td>\n",
       "      <td>...</td>\n",
       "      <td>...</td>\n",
       "      <td>...</td>\n",
       "      <td>...</td>\n",
       "      <td>...</td>\n",
       "      <td>...</td>\n",
       "      <td>...</td>\n",
       "      <td>...</td>\n",
       "      <td>...</td>\n",
       "      <td>...</td>\n",
       "    </tr>\n",
       "    <tr>\n",
       "      <th>51712</th>\n",
       "      <td>https://www.zomato.com/bangalore/best-brews-fo...</td>\n",
       "      <td>Four Points by Sheraton Bengaluru, 43/3, White...</td>\n",
       "      <td>Best Brews - Four Points by Sheraton Bengaluru...</td>\n",
       "      <td>No</td>\n",
       "      <td>No</td>\n",
       "      <td>3.6 /5</td>\n",
       "      <td>27</td>\n",
       "      <td>080 40301477</td>\n",
       "      <td>Whitefield</td>\n",
       "      <td>Bar</td>\n",
       "      <td>NaN</td>\n",
       "      <td>Continental</td>\n",
       "      <td>1,500</td>\n",
       "      <td>[('Rated 5.0', \"RATED\\n  Food and service are ...</td>\n",
       "      <td>[]</td>\n",
       "      <td>Pubs and bars</td>\n",
       "      <td>Whitefield</td>\n",
       "    </tr>\n",
       "    <tr>\n",
       "      <th>51713</th>\n",
       "      <td>https://www.zomato.com/bangalore/vinod-bar-and...</td>\n",
       "      <td>Number 10, Garudachar Palya, Mahadevapura, Whi...</td>\n",
       "      <td>Vinod Bar And Restaurant</td>\n",
       "      <td>No</td>\n",
       "      <td>No</td>\n",
       "      <td>NaN</td>\n",
       "      <td>0</td>\n",
       "      <td>+91 8197675843</td>\n",
       "      <td>Whitefield</td>\n",
       "      <td>Bar</td>\n",
       "      <td>NaN</td>\n",
       "      <td>Finger Food</td>\n",
       "      <td>600</td>\n",
       "      <td>[]</td>\n",
       "      <td>[]</td>\n",
       "      <td>Pubs and bars</td>\n",
       "      <td>Whitefield</td>\n",
       "    </tr>\n",
       "    <tr>\n",
       "      <th>51714</th>\n",
       "      <td>https://www.zomato.com/bangalore/plunge-sherat...</td>\n",
       "      <td>Sheraton Grand Bengaluru Whitefield Hotel &amp; Co...</td>\n",
       "      <td>Plunge - Sheraton Grand Bengaluru Whitefield H...</td>\n",
       "      <td>No</td>\n",
       "      <td>No</td>\n",
       "      <td>NaN</td>\n",
       "      <td>0</td>\n",
       "      <td>NaN</td>\n",
       "      <td>Whitefield</td>\n",
       "      <td>Bar</td>\n",
       "      <td>NaN</td>\n",
       "      <td>Finger Food</td>\n",
       "      <td>2,000</td>\n",
       "      <td>[]</td>\n",
       "      <td>[]</td>\n",
       "      <td>Pubs and bars</td>\n",
       "      <td>Whitefield</td>\n",
       "    </tr>\n",
       "    <tr>\n",
       "      <th>51715</th>\n",
       "      <td>https://www.zomato.com/bangalore/chime-sherato...</td>\n",
       "      <td>Sheraton Grand Bengaluru Whitefield Hotel &amp; Co...</td>\n",
       "      <td>Chime - Sheraton Grand Bengaluru Whitefield Ho...</td>\n",
       "      <td>No</td>\n",
       "      <td>Yes</td>\n",
       "      <td>4.3 /5</td>\n",
       "      <td>236</td>\n",
       "      <td>080 49652769</td>\n",
       "      <td>ITPL Main Road, Whitefield</td>\n",
       "      <td>Bar</td>\n",
       "      <td>Cocktails, Pizza, Buttermilk</td>\n",
       "      <td>Finger Food</td>\n",
       "      <td>2,500</td>\n",
       "      <td>[('Rated 4.0', 'RATED\\n  Nice and friendly pla...</td>\n",
       "      <td>[]</td>\n",
       "      <td>Pubs and bars</td>\n",
       "      <td>Whitefield</td>\n",
       "    </tr>\n",
       "    <tr>\n",
       "      <th>51716</th>\n",
       "      <td>https://www.zomato.com/bangalore/the-nest-the-...</td>\n",
       "      <td>ITPL Main Road, KIADB Export Promotion Industr...</td>\n",
       "      <td>The Nest - The Den Bengaluru</td>\n",
       "      <td>No</td>\n",
       "      <td>No</td>\n",
       "      <td>3.4 /5</td>\n",
       "      <td>13</td>\n",
       "      <td>+91 8071117272</td>\n",
       "      <td>ITPL Main Road, Whitefield</td>\n",
       "      <td>Bar, Casual Dining</td>\n",
       "      <td>NaN</td>\n",
       "      <td>Finger Food, North Indian, Continental</td>\n",
       "      <td>1,500</td>\n",
       "      <td>[('Rated 5.0', 'RATED\\n  Great ambience , look...</td>\n",
       "      <td>[]</td>\n",
       "      <td>Pubs and bars</td>\n",
       "      <td>Whitefield</td>\n",
       "    </tr>\n",
       "  </tbody>\n",
       "</table>\n",
       "<p>51717 rows × 17 columns</p>\n",
       "</div>"
      ],
      "text/plain": [
       "                                                     url  \\\n",
       "0      https://www.zomato.com/bangalore/jalsa-banasha...   \n",
       "1      https://www.zomato.com/bangalore/spice-elephan...   \n",
       "2      https://www.zomato.com/SanchurroBangalore?cont...   \n",
       "3      https://www.zomato.com/bangalore/addhuri-udupi...   \n",
       "4      https://www.zomato.com/bangalore/grand-village...   \n",
       "...                                                  ...   \n",
       "51712  https://www.zomato.com/bangalore/best-brews-fo...   \n",
       "51713  https://www.zomato.com/bangalore/vinod-bar-and...   \n",
       "51714  https://www.zomato.com/bangalore/plunge-sherat...   \n",
       "51715  https://www.zomato.com/bangalore/chime-sherato...   \n",
       "51716  https://www.zomato.com/bangalore/the-nest-the-...   \n",
       "\n",
       "                                                 address  \\\n",
       "0      942, 21st Main Road, 2nd Stage, Banashankari, ...   \n",
       "1      2nd Floor, 80 Feet Road, Near Big Bazaar, 6th ...   \n",
       "2      1112, Next to KIMS Medical College, 17th Cross...   \n",
       "3      1st Floor, Annakuteera, 3rd Stage, Banashankar...   \n",
       "4      10, 3rd Floor, Lakshmi Associates, Gandhi Baza...   \n",
       "...                                                  ...   \n",
       "51712  Four Points by Sheraton Bengaluru, 43/3, White...   \n",
       "51713  Number 10, Garudachar Palya, Mahadevapura, Whi...   \n",
       "51714  Sheraton Grand Bengaluru Whitefield Hotel & Co...   \n",
       "51715  Sheraton Grand Bengaluru Whitefield Hotel & Co...   \n",
       "51716  ITPL Main Road, KIADB Export Promotion Industr...   \n",
       "\n",
       "                                                    name online_order  \\\n",
       "0                                                  Jalsa          Yes   \n",
       "1                                         Spice Elephant          Yes   \n",
       "2                                        San Churro Cafe          Yes   \n",
       "3                                  Addhuri Udupi Bhojana           No   \n",
       "4                                          Grand Village           No   \n",
       "...                                                  ...          ...   \n",
       "51712  Best Brews - Four Points by Sheraton Bengaluru...           No   \n",
       "51713                           Vinod Bar And Restaurant           No   \n",
       "51714  Plunge - Sheraton Grand Bengaluru Whitefield H...           No   \n",
       "51715  Chime - Sheraton Grand Bengaluru Whitefield Ho...           No   \n",
       "51716                       The Nest - The Den Bengaluru           No   \n",
       "\n",
       "      book_table    rate  votes                             phone  \\\n",
       "0            Yes   4.1/5    775    080 42297555\\r\\n+91 9743772233   \n",
       "1             No   4.1/5    787                      080 41714161   \n",
       "2             No   3.8/5    918                    +91 9663487993   \n",
       "3             No   3.7/5     88                    +91 9620009302   \n",
       "4             No   3.8/5    166  +91 8026612447\\r\\n+91 9901210005   \n",
       "...          ...     ...    ...                               ...   \n",
       "51712         No  3.6 /5     27                      080 40301477   \n",
       "51713         No     NaN      0                    +91 8197675843   \n",
       "51714         No     NaN      0                               NaN   \n",
       "51715        Yes  4.3 /5    236                      080 49652769   \n",
       "51716         No  3.4 /5     13                    +91 8071117272   \n",
       "\n",
       "                         location            rest_type  \\\n",
       "0                    Banashankari        Casual Dining   \n",
       "1                    Banashankari        Casual Dining   \n",
       "2                    Banashankari  Cafe, Casual Dining   \n",
       "3                    Banashankari          Quick Bites   \n",
       "4                    Basavanagudi        Casual Dining   \n",
       "...                           ...                  ...   \n",
       "51712                  Whitefield                  Bar   \n",
       "51713                  Whitefield                  Bar   \n",
       "51714                  Whitefield                  Bar   \n",
       "51715  ITPL Main Road, Whitefield                  Bar   \n",
       "51716  ITPL Main Road, Whitefield   Bar, Casual Dining   \n",
       "\n",
       "                                              dish_liked  \\\n",
       "0      Pasta, Lunch Buffet, Masala Papad, Paneer Laja...   \n",
       "1      Momos, Lunch Buffet, Chocolate Nirvana, Thai G...   \n",
       "2      Churros, Cannelloni, Minestrone Soup, Hot Choc...   \n",
       "3                                            Masala Dosa   \n",
       "4                                    Panipuri, Gol Gappe   \n",
       "...                                                  ...   \n",
       "51712                                                NaN   \n",
       "51713                                                NaN   \n",
       "51714                                                NaN   \n",
       "51715                       Cocktails, Pizza, Buttermilk   \n",
       "51716                                                NaN   \n",
       "\n",
       "                                     cuisines approx_cost(for two people)  \\\n",
       "0              North Indian, Mughlai, Chinese                         800   \n",
       "1                 Chinese, North Indian, Thai                         800   \n",
       "2                      Cafe, Mexican, Italian                         800   \n",
       "3                  South Indian, North Indian                         300   \n",
       "4                    North Indian, Rajasthani                         600   \n",
       "...                                       ...                         ...   \n",
       "51712                             Continental                       1,500   \n",
       "51713                             Finger Food                         600   \n",
       "51714                             Finger Food                       2,000   \n",
       "51715                             Finger Food                       2,500   \n",
       "51716  Finger Food, North Indian, Continental                       1,500   \n",
       "\n",
       "                                            reviews_list menu_item  \\\n",
       "0      [('Rated 4.0', 'RATED\\n  A beautiful place to ...        []   \n",
       "1      [('Rated 4.0', 'RATED\\n  Had been here for din...        []   \n",
       "2      [('Rated 3.0', \"RATED\\n  Ambience is not that ...        []   \n",
       "3      [('Rated 4.0', \"RATED\\n  Great food and proper...        []   \n",
       "4      [('Rated 4.0', 'RATED\\n  Very good restaurant ...        []   \n",
       "...                                                  ...       ...   \n",
       "51712  [('Rated 5.0', \"RATED\\n  Food and service are ...        []   \n",
       "51713                                                 []        []   \n",
       "51714                                                 []        []   \n",
       "51715  [('Rated 4.0', 'RATED\\n  Nice and friendly pla...        []   \n",
       "51716  [('Rated 5.0', 'RATED\\n  Great ambience , look...        []   \n",
       "\n",
       "      listed_in(type) listed_in(city)  \n",
       "0              Buffet    Banashankari  \n",
       "1              Buffet    Banashankari  \n",
       "2              Buffet    Banashankari  \n",
       "3              Buffet    Banashankari  \n",
       "4              Buffet    Banashankari  \n",
       "...               ...             ...  \n",
       "51712   Pubs and bars      Whitefield  \n",
       "51713   Pubs and bars      Whitefield  \n",
       "51714   Pubs and bars      Whitefield  \n",
       "51715   Pubs and bars      Whitefield  \n",
       "51716   Pubs and bars      Whitefield  \n",
       "\n",
       "[51717 rows x 17 columns]"
      ]
     },
     "execution_count": 3,
     "metadata": {},
     "output_type": "execute_result"
    }
   ],
   "source": [
    "df"
   ]
  },
  {
   "cell_type": "markdown",
   "id": "176c555c-8dfd-4c8f-a457-50f8d27ba194",
   "metadata": {
    "tags": []
   },
   "source": [
    "<a id='assessment'></a>\n",
    "### Data Assessment"
   ]
  },
  {
   "cell_type": "code",
   "execution_count": 4,
   "id": "c256ad29-5efb-4340-a4c6-8a5b8d552df5",
   "metadata": {},
   "outputs": [
    {
     "name": "stdout",
     "output_type": "stream",
     "text": [
      "<class 'pandas.core.frame.DataFrame'>\n",
      "RangeIndex: 51717 entries, 0 to 51716\n",
      "Data columns (total 17 columns):\n",
      " #   Column                       Non-Null Count  Dtype \n",
      "---  ------                       --------------  ----- \n",
      " 0   url                          51717 non-null  object\n",
      " 1   address                      51717 non-null  object\n",
      " 2   name                         51717 non-null  object\n",
      " 3   online_order                 51717 non-null  object\n",
      " 4   book_table                   51717 non-null  object\n",
      " 5   rate                         43942 non-null  object\n",
      " 6   votes                        51717 non-null  int64 \n",
      " 7   phone                        50509 non-null  object\n",
      " 8   location                     51696 non-null  object\n",
      " 9   rest_type                    51490 non-null  object\n",
      " 10  dish_liked                   23639 non-null  object\n",
      " 11  cuisines                     51672 non-null  object\n",
      " 12  approx_cost(for two people)  51371 non-null  object\n",
      " 13  reviews_list                 51717 non-null  object\n",
      " 14  menu_item                    51717 non-null  object\n",
      " 15  listed_in(type)              51717 non-null  object\n",
      " 16  listed_in(city)              51717 non-null  object\n",
      "dtypes: int64(1), object(16)\n",
      "memory usage: 6.7+ MB\n"
     ]
    }
   ],
   "source": [
    "df.info()"
   ]
  },
  {
   "cell_type": "code",
   "execution_count": 5,
   "id": "dc2c1eda-b548-4efe-b746-2d09423095fe",
   "metadata": {},
   "outputs": [
    {
     "data": {
      "text/plain": [
       "url                                0\n",
       "address                            0\n",
       "name                               0\n",
       "online_order                       0\n",
       "book_table                         0\n",
       "rate                            7775\n",
       "votes                              0\n",
       "phone                           1208\n",
       "location                          21\n",
       "rest_type                        227\n",
       "dish_liked                     28078\n",
       "cuisines                          45\n",
       "approx_cost(for two people)      346\n",
       "reviews_list                       0\n",
       "menu_item                          0\n",
       "listed_in(type)                    0\n",
       "listed_in(city)                    0\n",
       "dtype: int64"
      ]
     },
     "execution_count": 5,
     "metadata": {},
     "output_type": "execute_result"
    }
   ],
   "source": [
    "df.isnull().sum()"
   ]
  },
  {
   "cell_type": "code",
   "execution_count": 12,
   "id": "4355cff1-fd80-428a-82fc-944c163c2523",
   "metadata": {
    "id": "4355cff1-fd80-428a-82fc-944c163c2523",
    "outputId": "67ee3e73-b281-4239-989a-5f1cb268c8a6"
   },
   "outputs": [
    {
     "data": {
      "text/plain": [
       "array(['4.1/5', '3.8/5', '3.7/5', '3.6/5', '4.6/5', '4.0/5', '4.2/5',\n",
       "       '3.9/5', '3.1/5', '3.0/5', '3.2/5', '3.3/5', '2.8/5', '4.4/5',\n",
       "       '4.3/5', nan, '2.9/5', '3.5/5', '2.6/5', '3.8 /5', '3.4/5',\n",
       "       '4.5/5', '2.5/5', '2.7/5', '4.7/5', '2.4/5', '2.2/5', '2.3/5',\n",
       "       '3.4 /5', '3.6 /5', '4.8/5', '3.9 /5', '4.2 /5', '4.0 /5',\n",
       "       '4.1 /5', '3.7 /5', '3.1 /5', '2.9 /5', '3.3 /5', '2.8 /5',\n",
       "       '3.5 /5', '2.7 /5', '2.5 /5', '3.2 /5', '2.6 /5', '4.5 /5',\n",
       "       '4.3 /5', '4.4 /5', '4.9/5', '2.1/5', '2.0/5', '1.8/5', '4.6 /5',\n",
       "       '4.9 /5', '3.0 /5', '4.8 /5', '2.3 /5', '4.7 /5', '2.4 /5',\n",
       "       '2.1 /5', '2.2 /5', '2.0 /5', '1.8 /5'], dtype=object)"
      ]
     },
     "execution_count": 12,
     "metadata": {},
     "output_type": "execute_result"
    }
   ],
   "source": [
    "#Reading unique values from 'rate' column\n",
    "df['rate'].unique()"
   ]
  },
  {
   "cell_type": "markdown",
   "id": "9f4a3b38-8cb9-4cb9-b02e-b918ca0f5539",
   "metadata": {},
   "source": [
    "#### Assessment Results\n",
    "- There are duplicate rows\n",
    "- Unnecessary columns: `url, address, phone, dish_liked, reviews_list, menu_item, listed_in(city)`\n",
    "- Unwanted values in the rate column ie `'NEW', '-'`\n",
    "- The columns `rate, location, rest_type, cuisines, approx_cost(for two people)` has null values\n",
    "- Rename columns: `approx_cost(for two people)` to `cost_for_2`, `listed_in(type)` to `type`, `listed_in(city)` to `city`\n",
    "- The columns `rate`, `approx_cost(for two people)`  should be of datatype `float`"
   ]
  },
  {
   "cell_type": "markdown",
   "id": "7c1f79ba-92d7-44f7-8660-2b1da64d8ed3",
   "metadata": {
    "tags": []
   },
   "source": [
    "<a id='cleaning'></a>\n",
    "### Data Cleaning"
   ]
  },
  {
   "cell_type": "markdown",
   "id": "d18b20dc-11ea-4b97-a164-e8967b9a75d3",
   "metadata": {
    "tags": []
   },
   "source": [
    "##### Drop unnecessary columns"
   ]
  },
  {
   "cell_type": "code",
   "execution_count": 7,
   "id": "9b0aeb82-92fc-4cd6-97a1-38213751ae29",
   "metadata": {},
   "outputs": [
    {
     "data": {
      "text/html": [
       "<div>\n",
       "<style scoped>\n",
       "    .dataframe tbody tr th:only-of-type {\n",
       "        vertical-align: middle;\n",
       "    }\n",
       "\n",
       "    .dataframe tbody tr th {\n",
       "        vertical-align: top;\n",
       "    }\n",
       "\n",
       "    .dataframe thead th {\n",
       "        text-align: right;\n",
       "    }\n",
       "</style>\n",
       "<table border=\"1\" class=\"dataframe\">\n",
       "  <thead>\n",
       "    <tr style=\"text-align: right;\">\n",
       "      <th></th>\n",
       "      <th>name</th>\n",
       "      <th>online_order</th>\n",
       "      <th>book_table</th>\n",
       "      <th>rate</th>\n",
       "      <th>votes</th>\n",
       "      <th>location</th>\n",
       "      <th>rest_type</th>\n",
       "      <th>dish_liked</th>\n",
       "      <th>cuisines</th>\n",
       "      <th>approx_cost(for two people)</th>\n",
       "      <th>listed_in(type)</th>\n",
       "    </tr>\n",
       "  </thead>\n",
       "  <tbody>\n",
       "    <tr>\n",
       "      <th>0</th>\n",
       "      <td>Jalsa</td>\n",
       "      <td>Yes</td>\n",
       "      <td>Yes</td>\n",
       "      <td>4.1/5</td>\n",
       "      <td>775</td>\n",
       "      <td>Banashankari</td>\n",
       "      <td>Casual Dining</td>\n",
       "      <td>Pasta, Lunch Buffet, Masala Papad, Paneer Laja...</td>\n",
       "      <td>North Indian, Mughlai, Chinese</td>\n",
       "      <td>800</td>\n",
       "      <td>Buffet</td>\n",
       "    </tr>\n",
       "    <tr>\n",
       "      <th>1</th>\n",
       "      <td>Spice Elephant</td>\n",
       "      <td>Yes</td>\n",
       "      <td>No</td>\n",
       "      <td>4.1/5</td>\n",
       "      <td>787</td>\n",
       "      <td>Banashankari</td>\n",
       "      <td>Casual Dining</td>\n",
       "      <td>Momos, Lunch Buffet, Chocolate Nirvana, Thai G...</td>\n",
       "      <td>Chinese, North Indian, Thai</td>\n",
       "      <td>800</td>\n",
       "      <td>Buffet</td>\n",
       "    </tr>\n",
       "    <tr>\n",
       "      <th>2</th>\n",
       "      <td>San Churro Cafe</td>\n",
       "      <td>Yes</td>\n",
       "      <td>No</td>\n",
       "      <td>3.8/5</td>\n",
       "      <td>918</td>\n",
       "      <td>Banashankari</td>\n",
       "      <td>Cafe, Casual Dining</td>\n",
       "      <td>Churros, Cannelloni, Minestrone Soup, Hot Choc...</td>\n",
       "      <td>Cafe, Mexican, Italian</td>\n",
       "      <td>800</td>\n",
       "      <td>Buffet</td>\n",
       "    </tr>\n",
       "    <tr>\n",
       "      <th>3</th>\n",
       "      <td>Addhuri Udupi Bhojana</td>\n",
       "      <td>No</td>\n",
       "      <td>No</td>\n",
       "      <td>3.7/5</td>\n",
       "      <td>88</td>\n",
       "      <td>Banashankari</td>\n",
       "      <td>Quick Bites</td>\n",
       "      <td>Masala Dosa</td>\n",
       "      <td>South Indian, North Indian</td>\n",
       "      <td>300</td>\n",
       "      <td>Buffet</td>\n",
       "    </tr>\n",
       "    <tr>\n",
       "      <th>4</th>\n",
       "      <td>Grand Village</td>\n",
       "      <td>No</td>\n",
       "      <td>No</td>\n",
       "      <td>3.8/5</td>\n",
       "      <td>166</td>\n",
       "      <td>Basavanagudi</td>\n",
       "      <td>Casual Dining</td>\n",
       "      <td>Panipuri, Gol Gappe</td>\n",
       "      <td>North Indian, Rajasthani</td>\n",
       "      <td>600</td>\n",
       "      <td>Buffet</td>\n",
       "    </tr>\n",
       "  </tbody>\n",
       "</table>\n",
       "</div>"
      ],
      "text/plain": [
       "                    name online_order book_table   rate  votes      location  \\\n",
       "0                  Jalsa          Yes        Yes  4.1/5    775  Banashankari   \n",
       "1         Spice Elephant          Yes         No  4.1/5    787  Banashankari   \n",
       "2        San Churro Cafe          Yes         No  3.8/5    918  Banashankari   \n",
       "3  Addhuri Udupi Bhojana           No         No  3.7/5     88  Banashankari   \n",
       "4          Grand Village           No         No  3.8/5    166  Basavanagudi   \n",
       "\n",
       "             rest_type                                         dish_liked  \\\n",
       "0        Casual Dining  Pasta, Lunch Buffet, Masala Papad, Paneer Laja...   \n",
       "1        Casual Dining  Momos, Lunch Buffet, Chocolate Nirvana, Thai G...   \n",
       "2  Cafe, Casual Dining  Churros, Cannelloni, Minestrone Soup, Hot Choc...   \n",
       "3          Quick Bites                                        Masala Dosa   \n",
       "4        Casual Dining                                Panipuri, Gol Gappe   \n",
       "\n",
       "                         cuisines approx_cost(for two people) listed_in(type)  \n",
       "0  North Indian, Mughlai, Chinese                         800          Buffet  \n",
       "1     Chinese, North Indian, Thai                         800          Buffet  \n",
       "2          Cafe, Mexican, Italian                         800          Buffet  \n",
       "3      South Indian, North Indian                         300          Buffet  \n",
       "4        North Indian, Rajasthani                         600          Buffet  "
      ]
     },
     "execution_count": 7,
     "metadata": {},
     "output_type": "execute_result"
    }
   ],
   "source": [
    "unwanted_columns = ['url', 'address', 'phone', 'reviews_list', 'menu_item', 'listed_in(city)']\n",
    "df.drop(unwanted_columns, axis=1, inplace=True)\n",
    "df.head()"
   ]
  },
  {
   "cell_type": "markdown",
   "id": "15fff982-2a86-4df8-b4f4-72d62d7cc6e9",
   "metadata": {},
   "source": [
    "##### Replace 'NEW' and '-' in column `rate` to 'NaN'"
   ]
  },
  {
   "cell_type": "code",
   "execution_count": 11,
   "id": "5588fe9c-0bac-477e-825a-7e05ae7530db",
   "metadata": {},
   "outputs": [],
   "source": [
    "df['rate'].replace(['NEW', '-'], np.nan, inplace=True)"
   ]
  },
  {
   "cell_type": "markdown",
   "id": "842486e1-fb72-4b75-bd8f-ec2bcc5caef9",
   "metadata": {},
   "source": [
    "##### Drop null values"
   ]
  },
  {
   "cell_type": "code",
   "execution_count": 9,
   "id": "0a4e3d99-db7d-4e26-9732-e3b37aead14e",
   "metadata": {},
   "outputs": [
    {
     "data": {
      "text/plain": [
       "name                           0\n",
       "online_order                   0\n",
       "book_table                     0\n",
       "rate                           0\n",
       "votes                          0\n",
       "location                       0\n",
       "rest_type                      0\n",
       "dish_liked                     0\n",
       "cuisines                       0\n",
       "approx_cost(for two people)    0\n",
       "listed_in(type)                0\n",
       "dtype: int64"
      ]
     },
     "execution_count": 9,
     "metadata": {},
     "output_type": "execute_result"
    }
   ],
   "source": [
    "df.dropna(inplace=True)\n",
    "df.reset_index(drop=True, inplace=True)\n",
    "df.isnull().sum()"
   ]
  },
  {
   "cell_type": "markdown",
   "id": "e1b0fb27-b97a-4e8d-9bb2-5e3440c5ebdc",
   "metadata": {},
   "source": [
    "##### Rename columns"
   ]
  },
  {
   "cell_type": "code",
   "execution_count": 13,
   "id": "5dea00a8-6ebc-4d04-88d9-b5ef5927f696",
   "metadata": {
    "tags": []
   },
   "outputs": [
    {
     "data": {
      "text/plain": [
       "Index(['name', 'online_order', 'book_table', 'rate', 'votes', 'location',\n",
       "       'rest_type', 'dish_liked', 'cuisines', 'cost_for_2', 'type'],\n",
       "      dtype='object')"
      ]
     },
     "execution_count": 13,
     "metadata": {},
     "output_type": "execute_result"
    }
   ],
   "source": [
    "df.rename(columns = {'approx_cost(for two people)':'cost_for_2',\n",
    "                     'listed_in(type)':'type',\n",
    "                     'listed_in(city)':'city'}, inplace=True)\n",
    "df.columns"
   ]
  },
  {
   "cell_type": "markdown",
   "id": "076b9231-021f-40b1-b378-f24451fdfbb4",
   "metadata": {},
   "source": [
    "##### Convert the columns `rate, cost_for_2` to datatype `float`\n",
    ">   \n",
    "     We remove '/5' from values in the rate column and then convert to float.\n",
    "     We remove the ',' from values in the cost_for_2 column and then convert to float"
   ]
  },
  {
   "cell_type": "code",
   "execution_count": 34,
   "id": "203aedc5-dcde-4a15-a84e-654c1ae637bb",
   "metadata": {},
   "outputs": [
    {
     "data": {
      "text/plain": [
       "dtype('float64')"
      ]
     },
     "execution_count": 34,
     "metadata": {},
     "output_type": "execute_result"
    }
   ],
   "source": [
    "# Removing '/5' from rate\n",
    "df['rate'] = df['rate'].apply(lambda x: x.replace('/5', '') if isinstance(x, str) and '/5' in x else x).astype(float)\n",
    "df['rate'].dtype"
   ]
  },
  {
   "cell_type": "code",
   "execution_count": 32,
   "id": "8e2af312-ae91-4723-9c71-0878936773b7",
   "metadata": {},
   "outputs": [
    {
     "data": {
      "text/plain": [
       "dtype('float64')"
      ]
     },
     "execution_count": 32,
     "metadata": {},
     "output_type": "execute_result"
    }
   ],
   "source": [
    "# Replacing ',' with empty string '' and converting to float\n",
    "df['cost_for_2'] = df['cost_for_2'].apply(lambda x: x.replace(',', '') if isinstance(x, str) and ',' in x else x).astype(float)\n",
    "df['cost_for_2'].dtype"
   ]
  },
  {
   "cell_type": "code",
   "execution_count": 33,
   "id": "1bbe68ed-a683-4131-a1be-4e3f9d70818c",
   "metadata": {},
   "outputs": [
    {
     "data": {
      "text/plain": [
       "0         800.0\n",
       "1         800.0\n",
       "2         800.0\n",
       "3         300.0\n",
       "4         600.0\n",
       "          ...  \n",
       "51712    1500.0\n",
       "51713     600.0\n",
       "51714    2000.0\n",
       "51715    2500.0\n",
       "51716    1500.0\n",
       "Name: cost_for_2, Length: 51717, dtype: float64"
      ]
     },
     "execution_count": 33,
     "metadata": {},
     "output_type": "execute_result"
    }
   ],
   "source": [
    "df['cost_for_2']"
   ]
  },
  {
   "cell_type": "code",
   "execution_count": 13,
   "id": "a63d553e-4baf-4ce3-874c-b6f7bf492398",
   "metadata": {},
   "outputs": [],
   "source": [
    "# Save Cleaned Data\n",
    "df.to_csv('Zomato_Clean.csv', index=False)"
   ]
  },
  {
   "cell_type": "markdown",
   "id": "ecde0e50-7777-4f59-874a-02db53063d67",
   "metadata": {
    "id": "ecde0e50-7777-4f59-874a-02db53063d67",
    "tags": []
   },
   "source": [
    "<a id='explore'></a>\n",
    "### Exploratory Data Analysis"
   ]
  },
  {
   "cell_type": "markdown",
   "id": "7f85e574-91a6-4e2e-a1d8-3eba46b2487d",
   "metadata": {
    "id": "7f85e574-91a6-4e2e-a1d8-3eba46b2487d",
    "tags": []
   },
   "source": [
    "#### Most famous restaurants chain in Bangalore"
   ]
  },
  {
   "cell_type": "code",
   "execution_count": 14,
   "id": "aec85099-06bb-48ba-9bc2-0026fa7c2555",
   "metadata": {
    "id": "aec85099-06bb-48ba-9bc2-0026fa7c2555",
    "outputId": "53c7ca73-3906-423a-8865-b24a04557782"
   },
   "outputs": [
    {
     "data": {
      "image/png": "[encoded data removed]"
     },
     "metadata": {},
     "output_type": "display_data"
    }
   ],
   "source": [
    "famous_count = df['name'].value_counts()[:20]\n",
    "fig = px.bar(famous_count,\n",
    "             x=\"name\",\n",
    "             y=famous_count.index,\n",
    "             color=famous_count.index,\n",
    "             template = 'ggplot2',\n",
    "             height = 600,\n",
    "            width = 900\n",
    "            )\n",
    "\n",
    "fig.update_layout(\n",
    "    title = 'Top 20 Most Famous Restaurants',\n",
    "    xaxis_title = 'Number of Outlets',\n",
    "    yaxis_title = 'Names of Restaurants'\n",
    ")\n",
    "   \n",
    "fig.show(renderer='png')"
   ]
  },
  {
   "cell_type": "markdown",
   "id": "15215528-5b1f-4fab-bdd9-197fe8cc054e",
   "metadata": {
    "id": "15215528-5b1f-4fab-bdd9-197fe8cc054e"
   },
   "source": [
    "**Insight:** Cafe Coffee Day, Onesta and Empire Restaurant are the top 3 most popular restaurants in Bangalore"
   ]
  },
  {
   "cell_type": "markdown",
   "id": "1719a9cc-1bc2-4b48-b773-0ba6bf644feb",
   "metadata": {
    "id": "1719a9cc-1bc2-4b48-b773-0ba6bf644feb",
    "tags": []
   },
   "source": [
    "#### Table Booking \n",
    "> Percentage of restaurants that provides option for booking table"
   ]
  },
  {
   "cell_type": "code",
   "execution_count": 15,
   "id": "041f9449-c29f-4097-971d-e189e17fffeb",
   "metadata": {
    "id": "041f9449-c29f-4097-971d-e189e17fffeb",
    "outputId": "9a9c29ea-582f-499d-d101-1693fe77d4c2"
   },
   "outputs": [
    {
     "data": {
      "image/png": "[encoded data removed]"
     },
     "metadata": {},
     "output_type": "display_data"
    }
   ],
   "source": [
    "bk_table = df['book_table'].value_counts()\n",
    "fig = px.pie(bk_table,\n",
    "             values = bk_table,\n",
    "             title = 'Table Booking',\n",
    "             names = bk_table.index,\n",
    "             height = 400,\n",
    "             width = 400,\n",
    "             template = 'seaborn'\n",
    "            )\n",
    "fig.show(renderer='png')"
   ]
  },
  {
   "cell_type": "markdown",
   "id": "21d61692-ed54-4a5c-9620-ca3bb8c59153",
   "metadata": {
    "id": "21d61692-ed54-4a5c-9620-ca3bb8c59153"
   },
   "source": [
    "**Insight:** Most restaurant do not offer the option of booking a table."
   ]
  },
  {
   "cell_type": "markdown",
   "id": "7066d15d-bbbc-4b09-bbfb-bdc413dfe733",
   "metadata": {
    "id": "7066d15d-bbbc-4b09-bbfb-bdc413dfe733"
   },
   "source": [
    "#### Restaurants deliver online or Not"
   ]
  },
  {
   "cell_type": "code",
   "execution_count": 16,
   "id": "12c86dd5-928d-4425-82d4-886c42797c96",
   "metadata": {
    "id": "12c86dd5-928d-4425-82d4-886c42797c96",
    "outputId": "64d9eb2e-53a3-45bd-f138-e2567fe649ae"
   },
   "outputs": [
    {
     "data": {
      "image/png": "[encoded data removed]"
     },
     "metadata": {},
     "output_type": "display_data"
    }
   ],
   "source": [
    "online_del = df['online_order'].value_counts()\n",
    "fig = px.bar(online_del,\n",
    "             y='online_order',\n",
    "             x=online_del.index,\n",
    "             color=online_del.index,\n",
    "             template = 'plotly',\n",
    "             height = 500,\n",
    "            width = 700\n",
    "            )\n",
    "\n",
    "fig.update_layout(\n",
    "    title = 'Restaurants delivering online or Not',\n",
    "    yaxis_title = 'Number of Restaurants',\n",
    "    xaxis_title = 'online order'\n",
    ")\n",
    "   \n",
    "fig.show(renderer='png')"
   ]
  },
  {
   "cell_type": "markdown",
   "id": "58b76ffc-507d-48ed-9356-af37076a646f",
   "metadata": {
    "id": "58b76ffc-507d-48ed-9356-af37076a646f"
   },
   "source": [
    "**Insight:** Most restaurant offers online order and delivery"
   ]
  },
  {
   "cell_type": "markdown",
   "id": "dfaa903d-99d0-4406-96f0-febc04237d30",
   "metadata": {
    "id": "dfaa903d-99d0-4406-96f0-febc04237d30"
   },
   "source": [
    "#### Ratings Distribution"
   ]
  },
  {
   "cell_type": "code",
   "execution_count": 17,
   "id": "0ad54830-fa3e-4c34-887c-621acec72f7b",
   "metadata": {},
   "outputs": [
    {
     "data": {
      "image/png": "[encoded data removed]"
     },
     "metadata": {},
     "output_type": "display_data"
    }
   ],
   "source": [
    "ratings = [df['rate'].values]\n",
    "group_labels = ['ratings']\n",
    "fig = ff.create_distplot(ratings, group_labels,\n",
    "                        bin_size= 0.2)\n",
    "\n",
    "fig.update_layout(\n",
    "    height = 1000,\n",
    "    width = 700,\n",
    "    title = 'Ratings Distribution',\n",
    "    yaxis_title = 'Number of Ratings',\n",
    "    xaxis_title = 'ratings'\n",
    ")\n",
    "\n",
    "fig.show(renderer='png')"
   ]
  },
  {
   "cell_type": "markdown",
   "id": "d6fbf84b-6bac-486b-a3f9-8ec48156cea3",
   "metadata": {
    "id": "d6fbf84b-6bac-486b-a3f9-8ec48156cea3"
   },
   "source": [
    "**Insight:** Most ratings are between 3.0 and 4.5"
   ]
  },
  {
   "cell_type": "markdown",
   "id": "bd9b3b54-14f0-4044-82f2-b3cf86204e45",
   "metadata": {
    "id": "bd9b3b54-14f0-4044-82f2-b3cf86204e45"
   },
   "source": [
    "#### Service Types"
   ]
  },
  {
   "cell_type": "code",
   "execution_count": 18,
   "id": "3186e085-cd7a-428c-95e7-d353e11e5ade",
   "metadata": {
    "id": "3186e085-cd7a-428c-95e7-d353e11e5ade",
    "outputId": "db8e0287-949e-4ac5-ebfd-cf098e7c962f"
   },
   "outputs": [
    {
     "data": {
      "image/png": "[encoded data removed]"
     },
     "metadata": {},
     "output_type": "display_data"
    }
   ],
   "source": [
    "service = df['type'].value_counts()\n",
    "fig = px.bar(service,\n",
    "             x='type',\n",
    "             y=service.index,\n",
    "             color= service.index,\n",
    "             template = 'ggplot2',\n",
    "             height = 500,\n",
    "            width = 700\n",
    "            )\n",
    "\n",
    "fig.update_layout(\n",
    "    title = 'Types of services',\n",
    "    xaxis_title = 'Count',\n",
    "    yaxis_title = 'service types'\n",
    ")\n",
    "   \n",
    "fig.show(renderer='png')"
   ]
  },
  {
   "cell_type": "markdown",
   "id": "1e111d59-1285-4971-86af-76c376fdeb94",
   "metadata": {
    "id": "1e111d59-1285-4971-86af-76c376fdeb94"
   },
   "source": [
    "**Insight:** Here the two main service types are Delivery and Dine-out"
   ]
  },
  {
   "cell_type": "markdown",
   "id": "5a64a37b-f027-45b5-8b5c-152ef5c10745",
   "metadata": {
    "id": "5a64a37b-f027-45b5-8b5c-152ef5c10745"
   },
   "source": [
    "#### Distribution of charges"
   ]
  },
  {
   "cell_type": "code",
   "execution_count": 19,
   "id": "7e950677-0585-4581-8659-b48c673170a5",
   "metadata": {
    "id": "7e950677-0585-4581-8659-b48c673170a5",
    "outputId": "61e61c4c-18c7-4343-ff45-c96ec15e3218"
   },
   "outputs": [
    {
     "data": {
      "image/png": "[encoded data removed]"
     },
     "metadata": {},
     "output_type": "display_data"
    }
   ],
   "source": [
    "cost = [df['cost_for_2'].values]\n",
    "group_labels = ['cost_for_2']\n",
    "fig = ff.create_distplot(cost, group_labels,\n",
    "                        bin_size= 200)\n",
    "\n",
    "fig.update_layout(\n",
    "    height = 1000,\n",
    "    width = 700,\n",
    "    title = 'Cost for 2 People Charge Distribution',\n",
    "    xaxis_title = 'cost_for_2'\n",
    ")\n",
    "\n",
    "fig.show(renderer='png')"
   ]
  },
  {
   "cell_type": "markdown",
   "id": "accad453-ef1c-4e4e-860b-26eb858d658a",
   "metadata": {
    "id": "accad453-ef1c-4e4e-860b-26eb858d658a"
   },
   "source": [
    "**Insight:** Majority of restaurants charges less than 2000 for two people "
   ]
  },
  {
   "cell_type": "markdown",
   "id": "55cec5dc-d1ce-40e7-b4d5-1362ed1d8459",
   "metadata": {
    "id": "55cec5dc-d1ce-40e7-b4d5-1362ed1d8459"
   },
   "source": [
    "#### Most Liked Dishes"
   ]
  },
  {
   "cell_type": "code",
   "execution_count": 20,
   "id": "c0c7b36f-0597-4f45-b9a5-b07f8ca88480",
   "metadata": {
    "id": "c0c7b36f-0597-4f45-b9a5-b07f8ca88480"
   },
   "outputs": [],
   "source": [
    "likes = []\n",
    "for i in range(df.shape[0]):\n",
    "    dish = df['dish_liked'][i]\n",
    "    if ',' in dish:\n",
    "        split_ = dish.split(',')\n",
    "        for item in split_:\n",
    "            likes.append(item)\n",
    "    else:\n",
    "        likes.append(dish)"
   ]
  },
  {
   "cell_type": "code",
   "execution_count": 21,
   "id": "a69eb24a-d383-4a1d-8d81-8d0dee8ece08",
   "metadata": {
    "id": "a69eb24a-d383-4a1d-8d81-8d0dee8ece08",
    "outputId": "b109c15e-9b97-4350-fa11-ae77a3608f46"
   },
   "outputs": [
    {
     "data": {
      "text/plain": [
       " Pasta         2695\n",
       " Pizza         1916\n",
       " Cocktails     1882\n",
       " Burgers       1738\n",
       " Mocktails     1623\n",
       " Biryani       1309\n",
       " Sandwiches    1287\n",
       "Burgers        1256\n",
       " Coffee        1184\n",
       " Nachos        1171\n",
       "dtype: int64"
      ]
     },
     "execution_count": 21,
     "metadata": {},
     "output_type": "execute_result"
    }
   ],
   "source": [
    "favorite_food = pd.Series(likes).value_counts()\n",
    "favorite_food.head(10)"
   ]
  },
  {
   "cell_type": "code",
   "execution_count": 22,
   "id": "965ccd08-b5a2-49b4-a00d-94438978fd70",
   "metadata": {
    "id": "965ccd08-b5a2-49b4-a00d-94438978fd70",
    "outputId": "2ef60c00-2aad-4c68-f8f8-033acc58d422"
   },
   "outputs": [
    {
     "data": {
      "image/png": "[encoded data removed]"
     },
     "metadata": {},
     "output_type": "display_data"
    }
   ],
   "source": [
    "fav_10 = favorite_food[:10]\n",
    "fig = px.bar(fav_10,\n",
    "             x= fav_10,\n",
    "             y=fav_10.index,\n",
    "             color= fav_10.index,\n",
    "             template = 'seaborn',\n",
    "             height = 500,\n",
    "            width = 700\n",
    "            )\n",
    "\n",
    "fig.update_layout(\n",
    "    title = 'Top 10 Favorite Food',\n",
    "    xaxis_title = 'Count',\n",
    "    yaxis_title = 'Food types'\n",
    ")\n",
    "   \n",
    "fig.show(renderer='png')"
   ]
  },
  {
   "cell_type": "markdown",
   "id": "4927a0db-8dc9-4742-86ba-46b69e5ff879",
   "metadata": {
    "id": "4927a0db-8dc9-4742-86ba-46b69e5ff879"
   },
   "source": [
    "**Insight:** Five most liked dishes are Pasta, Pizza, Cocktails, Burger, Mocktails."
   ]
  },
  {
   "cell_type": "markdown",
   "id": "133f12a1-83ea-454c-93a3-8ca9308f1c62",
   "metadata": {
    "id": "133f12a1-83ea-454c-93a3-8ca9308f1c62"
   },
   "source": [
    "#### Most Popular Restaurant Types"
   ]
  },
  {
   "cell_type": "code",
   "execution_count": 23,
   "id": "b171b446-8a60-4f8a-a707-5ea84b429837",
   "metadata": {
    "id": "b171b446-8a60-4f8a-a707-5ea84b429837",
    "outputId": "9e34d08d-d0f7-4f37-ebb6-d8aab756178b"
   },
   "outputs": [
    {
     "data": {
      "image/png": "[encoded data removed]"
     },
     "metadata": {},
     "output_type": "display_data"
    }
   ],
   "source": [
    "rest = df['rest_type'].value_counts()[:10]\n",
    "fig = px.bar(rest,\n",
    "             x='rest_type',\n",
    "             y=rest.index,\n",
    "             color= rest.index,\n",
    "             template = 'ggplot2',\n",
    "             height = 500,\n",
    "            width = 700\n",
    "            )\n",
    "\n",
    "fig.update_layout(\n",
    "    title = 'Types of Restaurant',\n",
    "    xaxis_title = 'Count',\n",
    "    yaxis_title = 'restaurant types'\n",
    ")\n",
    "   \n",
    "fig.show(renderer='png')"
   ]
  },
  {
   "cell_type": "markdown",
   "id": "432e6e9e-ae4e-4cb6-8aa7-e20c6b74ce62",
   "metadata": {
    "id": "432e6e9e-ae4e-4cb6-8aa7-e20c6b74ce62"
   },
   "source": [
    "**Insight:** The 3 most common type of restaurants in Bangalore are Casual Dining, Quick Bites and Cafe"
   ]
  },
  {
   "cell_type": "markdown",
   "id": "df2762aa-b960-43f7-bf52-798a6c89f252",
   "metadata": {
    "id": "df2762aa-b960-43f7-bf52-798a6c89f252",
    "tags": []
   },
   "source": [
    "<a id='model'></a>\n",
    "## Model Building\n",
    "In this section we would so some more preprocessing and build a regresion model to predict the rating of a restaurant"
   ]
  },
  {
   "cell_type": "code",
   "execution_count": 14,
   "id": "6fdb1064-747c-41a5-bf08-317905f09b8d",
   "metadata": {},
   "outputs": [],
   "source": [
    "import json\n",
    "from sklearn.preprocessing import LabelEncoder\n",
    "from sklearn.model_selection import train_test_split\n",
    "from sklearn.metrics import mean_squared_error\n",
    "from sklearn.linear_model import LinearRegression\n",
    "from sklearn.ensemble import AdaBoostRegressor, RandomForestRegressor, ExtraTreesRegressor, VotingRegressor\n",
    "from lightgbm import LGBMRegressor\n",
    "from xgboost import XGBRegressor\n",
    "from sklearn.model_selection import GridSearchCV\n",
    "from sklearn.metrics import r2_score\n",
    "import matplotlib.pyplot as plt\n",
    "import pandas as pd\n",
    "import numpy as np\n",
    "import seaborn as sns\n",
    "import plotly.express as px\n",
    "\n",
    "import plotly.graph_objects as go\n",
    "\n",
    "import pickle\n",
    "\n",
    "rs = 123"
   ]
  },
  {
   "cell_type": "markdown",
   "id": "9ec1a9ba-09ac-48e3-a892-8c80a3094af7",
   "metadata": {},
   "source": [
    "##### Define a function to return root-mean squared error(RMSE)"
   ]
  },
  {
   "cell_type": "code",
   "execution_count": 15,
   "id": "7456e246-fb92-4477-b378-67ef53e1f502",
   "metadata": {},
   "outputs": [],
   "source": [
    "def rmse(y_true, y_pred):\n",
    "    return np.sqrt(mean_squared_error(y_true, y_pred))"
   ]
  },
  {
   "cell_type": "markdown",
   "id": "d43340d8-fa5f-4273-a2e8-8ec1cfcc04c2",
   "metadata": {},
   "source": [
    "##### Read Cleaned Data"
   ]
  },
  {
   "cell_type": "code",
   "execution_count": 18,
   "id": "45c12c06-c782-43ea-bdbd-b2ce23bff87c",
   "metadata": {},
   "outputs": [
    {
     "data": {
      "text/html": [
       "<div>\n",
       "<style scoped>\n",
       "    .dataframe tbody tr th:only-of-type {\n",
       "        vertical-align: middle;\n",
       "    }\n",
       "\n",
       "    .dataframe tbody tr th {\n",
       "        vertical-align: top;\n",
       "    }\n",
       "\n",
       "    .dataframe thead th {\n",
       "        text-align: right;\n",
       "    }\n",
       "</style>\n",
       "<table border=\"1\" class=\"dataframe\">\n",
       "  <thead>\n",
       "    <tr style=\"text-align: right;\">\n",
       "      <th></th>\n",
       "      <th>name</th>\n",
       "      <th>online_order</th>\n",
       "      <th>book_table</th>\n",
       "      <th>rate</th>\n",
       "      <th>votes</th>\n",
       "      <th>location</th>\n",
       "      <th>rest_type</th>\n",
       "      <th>cuisines</th>\n",
       "      <th>cost_for_2</th>\n",
       "      <th>type</th>\n",
       "    </tr>\n",
       "  </thead>\n",
       "  <tbody>\n",
       "    <tr>\n",
       "      <th>0</th>\n",
       "      <td>Jalsa</td>\n",
       "      <td>Yes</td>\n",
       "      <td>Yes</td>\n",
       "      <td>4.1</td>\n",
       "      <td>775</td>\n",
       "      <td>Banashankari</td>\n",
       "      <td>Casual Dining</td>\n",
       "      <td>North Indian, Mughlai, Chinese</td>\n",
       "      <td>800.0</td>\n",
       "      <td>Buffet</td>\n",
       "    </tr>\n",
       "    <tr>\n",
       "      <th>1</th>\n",
       "      <td>Spice Elephant</td>\n",
       "      <td>Yes</td>\n",
       "      <td>No</td>\n",
       "      <td>4.1</td>\n",
       "      <td>787</td>\n",
       "      <td>Banashankari</td>\n",
       "      <td>Casual Dining</td>\n",
       "      <td>Chinese, North Indian, Thai</td>\n",
       "      <td>800.0</td>\n",
       "      <td>Buffet</td>\n",
       "    </tr>\n",
       "    <tr>\n",
       "      <th>2</th>\n",
       "      <td>San Churro Cafe</td>\n",
       "      <td>Yes</td>\n",
       "      <td>No</td>\n",
       "      <td>3.8</td>\n",
       "      <td>918</td>\n",
       "      <td>Banashankari</td>\n",
       "      <td>Cafe, Casual Dining</td>\n",
       "      <td>Cafe, Mexican, Italian</td>\n",
       "      <td>800.0</td>\n",
       "      <td>Buffet</td>\n",
       "    </tr>\n",
       "  </tbody>\n",
       "</table>\n",
       "</div>"
      ],
      "text/plain": [
       "              name online_order book_table  rate  votes      location  \\\n",
       "0            Jalsa          Yes        Yes   4.1    775  Banashankari   \n",
       "1   Spice Elephant          Yes         No   4.1    787  Banashankari   \n",
       "2  San Churro Cafe          Yes         No   3.8    918  Banashankari   \n",
       "\n",
       "             rest_type                        cuisines  cost_for_2    type  \n",
       "0        Casual Dining  North Indian, Mughlai, Chinese       800.0  Buffet  \n",
       "1        Casual Dining     Chinese, North Indian, Thai       800.0  Buffet  \n",
       "2  Cafe, Casual Dining          Cafe, Mexican, Italian       800.0  Buffet  "
      ]
     },
     "execution_count": 18,
     "metadata": {},
     "output_type": "execute_result"
    }
   ],
   "source": [
    "data = pd.read_csv('Zomato_Clean.csv')\n",
    "data.head(3)"
   ]
  },
  {
   "cell_type": "markdown",
   "id": "07c0bb8d-64c9-45a3-be4f-c8845a0ea79f",
   "metadata": {
    "tags": []
   },
   "source": [
    "### Preprocessing"
   ]
  },
  {
   "cell_type": "markdown",
   "id": "8a1f676a-7586-4233-9a23-635bec94f8a3",
   "metadata": {},
   "source": [
    "##### Drop unnecessary columns"
   ]
  },
  {
   "cell_type": "code",
   "execution_count": 19,
   "id": "5a8678e0-ef7f-4a4f-bdd7-e16e0dda7d48",
   "metadata": {},
   "outputs": [
    {
     "data": {
      "text/html": [
       "<div>\n",
       "<style scoped>\n",
       "    .dataframe tbody tr th:only-of-type {\n",
       "        vertical-align: middle;\n",
       "    }\n",
       "\n",
       "    .dataframe tbody tr th {\n",
       "        vertical-align: top;\n",
       "    }\n",
       "\n",
       "    .dataframe thead th {\n",
       "        text-align: right;\n",
       "    }\n",
       "</style>\n",
       "<table border=\"1\" class=\"dataframe\">\n",
       "  <thead>\n",
       "    <tr style=\"text-align: right;\">\n",
       "      <th></th>\n",
       "      <th>online_order</th>\n",
       "      <th>book_table</th>\n",
       "      <th>rate</th>\n",
       "      <th>votes</th>\n",
       "      <th>location</th>\n",
       "      <th>rest_type</th>\n",
       "      <th>cuisines</th>\n",
       "      <th>cost_for_2</th>\n",
       "    </tr>\n",
       "  </thead>\n",
       "  <tbody>\n",
       "    <tr>\n",
       "      <th>0</th>\n",
       "      <td>Yes</td>\n",
       "      <td>Yes</td>\n",
       "      <td>4.1</td>\n",
       "      <td>775</td>\n",
       "      <td>Banashankari</td>\n",
       "      <td>Casual Dining</td>\n",
       "      <td>North Indian, Mughlai, Chinese</td>\n",
       "      <td>800.0</td>\n",
       "    </tr>\n",
       "    <tr>\n",
       "      <th>1</th>\n",
       "      <td>Yes</td>\n",
       "      <td>No</td>\n",
       "      <td>4.1</td>\n",
       "      <td>787</td>\n",
       "      <td>Banashankari</td>\n",
       "      <td>Casual Dining</td>\n",
       "      <td>Chinese, North Indian, Thai</td>\n",
       "      <td>800.0</td>\n",
       "    </tr>\n",
       "    <tr>\n",
       "      <th>2</th>\n",
       "      <td>Yes</td>\n",
       "      <td>No</td>\n",
       "      <td>3.8</td>\n",
       "      <td>918</td>\n",
       "      <td>Banashankari</td>\n",
       "      <td>Cafe, Casual Dining</td>\n",
       "      <td>Cafe, Mexican, Italian</td>\n",
       "      <td>800.0</td>\n",
       "    </tr>\n",
       "  </tbody>\n",
       "</table>\n",
       "</div>"
      ],
      "text/plain": [
       "  online_order book_table  rate  votes      location            rest_type  \\\n",
       "0          Yes        Yes   4.1    775  Banashankari        Casual Dining   \n",
       "1          Yes         No   4.1    787  Banashankari        Casual Dining   \n",
       "2          Yes         No   3.8    918  Banashankari  Cafe, Casual Dining   \n",
       "\n",
       "                         cuisines  cost_for_2  \n",
       "0  North Indian, Mughlai, Chinese       800.0  \n",
       "1     Chinese, North Indian, Thai       800.0  \n",
       "2          Cafe, Mexican, Italian       800.0  "
      ]
     },
     "execution_count": 19,
     "metadata": {},
     "output_type": "execute_result"
    }
   ],
   "source": [
    "data = data.drop(['name', 'type'], axis=1)\n",
    "data.head(3)"
   ]
  },
  {
   "cell_type": "markdown",
   "id": "b9e7553b-4746-4b42-8cc9-1aab1c621288",
   "metadata": {},
   "source": [
    "##### Convert the online categoriccal variables into a numeric format"
   ]
  },
  {
   "cell_type": "code",
   "execution_count": 20,
   "id": "0ad98764-7ff7-4c83-8c88-a57ceb9cddea",
   "metadata": {},
   "outputs": [],
   "source": [
    "data['online_order'] = data['online_order'].map({'Yes': 1, 'No': 0})"
   ]
  },
  {
   "cell_type": "code",
   "execution_count": 21,
   "id": "bfb67f0a-e089-43f3-9842-6d0de69d3e9b",
   "metadata": {
    "id": "bfb67f0a-e089-43f3-9842-6d0de69d3e9b"
   },
   "outputs": [],
   "source": [
    "data['online_order'] = pd.to_numeric(data['online_order'])"
   ]
  },
  {
   "cell_type": "code",
   "execution_count": 22,
   "id": "09294856-3ed6-4341-9022-3498126cb416",
   "metadata": {
    "id": "09294856-3ed6-4341-9022-3498126cb416",
    "outputId": "5efda9a7-b367-462c-c7d0-12bc4ec4fd67"
   },
   "outputs": [
    {
     "data": {
      "text/plain": [
       "1    27102\n",
       "0    14161\n",
       "Name: online_order, dtype: int64"
      ]
     },
     "execution_count": 22,
     "metadata": {},
     "output_type": "execute_result"
    }
   ],
   "source": [
    "data['online_order'].value_counts()"
   ]
  },
  {
   "cell_type": "markdown",
   "id": "d635b2e5-cf65-4797-aae2-b17d1b3fb803",
   "metadata": {},
   "source": [
    "##### Change string categorical into a categorical int"
   ]
  },
  {
   "cell_type": "code",
   "execution_count": 23,
   "id": "8a5db500-12fc-4b34-b4f3-37cbdcd96d60",
   "metadata": {
    "id": "8a5db500-12fc-4b34-b4f3-37cbdcd96d60"
   },
   "outputs": [],
   "source": [
    "data['book_table'] = data['book_table'].map({'Yes': 1, 'No': 0})"
   ]
  },
  {
   "cell_type": "code",
   "execution_count": 24,
   "id": "8e5d4832-3e38-4eb3-957b-0dcfea81b72a",
   "metadata": {
    "id": "8e5d4832-3e38-4eb3-957b-0dcfea81b72a"
   },
   "outputs": [],
   "source": [
    "data['book_table'] = pd.to_numeric(data['book_table'])"
   ]
  },
  {
   "cell_type": "code",
   "execution_count": 25,
   "id": "fc135839-e047-4ecc-9312-3e87fac8f503",
   "metadata": {
    "id": "fc135839-e047-4ecc-9312-3e87fac8f503",
    "outputId": "39c9cd5e-28af-4085-dc88-c4f61665acc1"
   },
   "outputs": [
    {
     "data": {
      "text/plain": [
       "0    34959\n",
       "1     6304\n",
       "Name: book_table, dtype: int64"
      ]
     },
     "execution_count": 25,
     "metadata": {},
     "output_type": "execute_result"
    }
   ],
   "source": [
    "data['book_table'].value_counts()"
   ]
  },
  {
   "cell_type": "markdown",
   "id": "34ff5458-5020-42f1-9370-0ac204d7d032",
   "metadata": {
    "tags": []
   },
   "source": [
    "##### label encode the categorical variables to make it easier to build algorithm\n",
    "- location\n",
    "- rest_type\n",
    "- cuisines"
   ]
  },
  {
   "cell_type": "code",
   "execution_count": 26,
   "id": "c99e288d-98f5-41fd-86e2-f7116c810850",
   "metadata": {},
   "outputs": [
    {
     "data": {
      "text/plain": [
       "0                      Banashankari\n",
       "1                      Banashankari\n",
       "2                      Banashankari\n",
       "3                      Banashankari\n",
       "4                      Basavanagudi\n",
       "                    ...            \n",
       "41258                    Whitefield\n",
       "41259                    Whitefield\n",
       "41260                    Whitefield\n",
       "41261    ITPL Main Road, Whitefield\n",
       "41262    ITPL Main Road, Whitefield\n",
       "Name: location, Length: 41263, dtype: object"
      ]
     },
     "execution_count": 26,
     "metadata": {},
     "output_type": "execute_result"
    }
   ],
   "source": [
    "data['location']"
   ]
  },
  {
   "cell_type": "markdown",
   "id": "72be8a0d-b27f-44c3-bfea-6f89671b4483",
   "metadata": {},
   "source": [
    "Location"
   ]
  },
  {
   "cell_type": "code",
   "execution_count": 27,
   "id": "f3442624-69f1-46f6-9e47-378e8b4ff193",
   "metadata": {},
   "outputs": [],
   "source": [
    "# Initialize the LabelEncoder\n",
    "location_encoder = LabelEncoder()\n",
    "\n",
    "# Fit and transform the LabelEncoder\n",
    "location_encoder.fit(data['location'])\n",
    "data['location'] = location_encoder.transform(data['location'])\n",
    "\n",
    "# Save the label encoder\n",
    "with open('location_encoder.pickle', 'wb') as handle:\n",
    "    pickle.dump(location_encoder, handle, protocol=pickle.HIGHEST_PROTOCOL)"
   ]
  },
  {
   "cell_type": "code",
   "execution_count": 28,
   "id": "3dd78000-1aab-42eb-9cfd-51c37f693ae1",
   "metadata": {},
   "outputs": [],
   "source": [
    "# Initialize the LabelEncoder\n",
    "RestType_encoder = LabelEncoder()\n",
    "\n",
    "# Fit and transform the LabelEncoder\n",
    "RestType_encoder.fit(data['rest_type'])\n",
    "data['rest_type'] = RestType_encoder.transform(data['rest_type'])\n",
    "\n",
    "# Save the label encoder\n",
    "with open('RestType_encoder.pickle', 'wb') as handle:\n",
    "    pickle.dump(RestType_encoder, handle, protocol=pickle.HIGHEST_PROTOCOL)"
   ]
  },
  {
   "cell_type": "code",
   "execution_count": 29,
   "id": "b046cd5d-0fe9-4dd3-93dc-39abe82059d0",
   "metadata": {},
   "outputs": [],
   "source": [
    "# Initialize the LabelEncoder\n",
    "cuisines_encoder = LabelEncoder()\n",
    "\n",
    "# Fit and transform the LabelEncoder\n",
    "cuisines_encoder.fit(data['cuisines'])\n",
    "data['cuisines'] = cuisines_encoder.transform(data['cuisines'])\n",
    "\n",
    "# Save the label encoder\n",
    "with open('cuisines_encoder.pickle', 'wb') as handle:\n",
    "    pickle.dump(cuisines_encoder, handle, protocol=pickle.HIGHEST_PROTOCOL)"
   ]
  },
  {
   "cell_type": "code",
   "execution_count": 30,
   "id": "9abed59b-116a-4899-b8e3-c15ad198dca1",
   "metadata": {},
   "outputs": [],
   "source": [
    "# # Load the label encoder\n",
    "# with open('location_encoder.pickle', 'rb') as l_handle:\n",
    "#     location_encoder = pickle.load(l_handle)\n",
    "\n",
    "# # Load the label encoder\n",
    "# with open('RestType_encoder.pickle', 'rb') as l_handle:\n",
    "#     RestType_encoder = pickle.load(l_handle)\n",
    "    \n",
    "# # Load the label encoder\n",
    "# with open('cuisines_encoder.pickle', 'rb') as l_handle:\n",
    "#     cuisines_encoder = pickle.load(l_handle)"
   ]
  },
  {
   "cell_type": "code",
   "execution_count": 31,
   "id": "a58c13ef-7c5a-46f4-a12e-5165a1299c6c",
   "metadata": {
    "id": "a58c13ef-7c5a-46f4-a12e-5165a1299c6c",
    "outputId": "799d77bc-2c79-4b7c-87ef-d25422817463"
   },
   "outputs": [
    {
     "data": {
      "text/html": [
       "<div>\n",
       "<style scoped>\n",
       "    .dataframe tbody tr th:only-of-type {\n",
       "        vertical-align: middle;\n",
       "    }\n",
       "\n",
       "    .dataframe tbody tr th {\n",
       "        vertical-align: top;\n",
       "    }\n",
       "\n",
       "    .dataframe thead th {\n",
       "        text-align: right;\n",
       "    }\n",
       "</style>\n",
       "<table border=\"1\" class=\"dataframe\">\n",
       "  <thead>\n",
       "    <tr style=\"text-align: right;\">\n",
       "      <th></th>\n",
       "      <th>online_order</th>\n",
       "      <th>book_table</th>\n",
       "      <th>rate</th>\n",
       "      <th>votes</th>\n",
       "      <th>location</th>\n",
       "      <th>rest_type</th>\n",
       "      <th>cuisines</th>\n",
       "      <th>cost_for_2</th>\n",
       "    </tr>\n",
       "  </thead>\n",
       "  <tbody>\n",
       "    <tr>\n",
       "      <th>0</th>\n",
       "      <td>1</td>\n",
       "      <td>1</td>\n",
       "      <td>4.1</td>\n",
       "      <td>775</td>\n",
       "      <td>1</td>\n",
       "      <td>24</td>\n",
       "      <td>1894</td>\n",
       "      <td>800.0</td>\n",
       "    </tr>\n",
       "    <tr>\n",
       "      <th>1</th>\n",
       "      <td>1</td>\n",
       "      <td>0</td>\n",
       "      <td>4.1</td>\n",
       "      <td>787</td>\n",
       "      <td>1</td>\n",
       "      <td>24</td>\n",
       "      <td>816</td>\n",
       "      <td>800.0</td>\n",
       "    </tr>\n",
       "    <tr>\n",
       "      <th>2</th>\n",
       "      <td>1</td>\n",
       "      <td>0</td>\n",
       "      <td>3.8</td>\n",
       "      <td>918</td>\n",
       "      <td>1</td>\n",
       "      <td>19</td>\n",
       "      <td>653</td>\n",
       "      <td>800.0</td>\n",
       "    </tr>\n",
       "  </tbody>\n",
       "</table>\n",
       "</div>"
      ],
      "text/plain": [
       "   online_order  book_table  rate  votes  location  rest_type  cuisines  \\\n",
       "0             1           1   4.1    775         1         24      1894   \n",
       "1             1           0   4.1    787         1         24       816   \n",
       "2             1           0   3.8    918         1         19       653   \n",
       "\n",
       "   cost_for_2  \n",
       "0       800.0  \n",
       "1       800.0  \n",
       "2       800.0  "
      ]
     },
     "execution_count": 31,
     "metadata": {},
     "output_type": "execute_result"
    }
   ],
   "source": [
    "data.head(3)"
   ]
  },
  {
   "cell_type": "markdown",
   "id": "7b83bab3-cfb1-4e0e-8bf9-41fff2aa9260",
   "metadata": {
    "tags": []
   },
   "source": [
    "### Splitting data"
   ]
  },
  {
   "cell_type": "markdown",
   "id": "c19b85c0-274d-4465-b5a9-9834472581f5",
   "metadata": {},
   "source": [
    "##### Split data into features(X) and targets(Y)"
   ]
  },
  {
   "cell_type": "code",
   "execution_count": 32,
   "id": "28b247f0-a114-40b5-8eb1-c9d7fd553356",
   "metadata": {
    "id": "28b247f0-a114-40b5-8eb1-c9d7fd553356",
    "outputId": "fb23b6f5-6fcb-4cb0-c80f-3128889d3fcc"
   },
   "outputs": [],
   "source": [
    "X = data.drop(['rate'], axis=1)\n",
    "Y = data['rate']"
   ]
  },
  {
   "cell_type": "markdown",
   "id": "74faa558-c472-447c-ad4f-7be24715efd6",
   "metadata": {},
   "source": [
    "##### split data into training and test set"
   ]
  },
  {
   "cell_type": "code",
   "execution_count": 33,
   "id": "4ce77cf9-28c6-4d35-8446-810b010486e2",
   "metadata": {
    "id": "4ce77cf9-28c6-4d35-8446-810b010486e2"
   },
   "outputs": [],
   "source": [
    "x_train, x_test, y_train, y_test = train_test_split(X, Y, test_size= 0.3, random_state = rs)"
   ]
  },
  {
   "cell_type": "markdown",
   "id": "5f2b5520-22b1-4d18-99b8-63cbd1103a2f",
   "metadata": {},
   "source": [
    "### Define Function for plotting results distribution"
   ]
  },
  {
   "cell_type": "code",
   "execution_count": 34,
   "id": "21dc894f-55d4-46ad-b270-f74c4e458977",
   "metadata": {},
   "outputs": [],
   "source": [
    "def distributionPlot(RedFunction, BlueFunction, RedName, BlueName, Title):\n",
    "    fig = go.Figure()\n",
    "\n",
    "    fig.add_trace(go.Histogram(x=RedFunction, histnorm='probability', name=RedName, marker_color='red'))\n",
    "    fig.add_trace(go.Histogram(x=BlueFunction, histnorm='probability', name=BlueName, marker_color='blue'))\n",
    "\n",
    "    fig.update_layout(\n",
    "        title=Title,\n",
    "        xaxis_title='ratings',\n",
    "        yaxis_title='count',\n",
    "        barmode='overlay'\n",
    "    )\n",
    "\n",
    "    fig.show(renderer='png')\n"
   ]
  },
  {
   "cell_type": "markdown",
   "id": "20803a3a-937d-4008-b96b-3bcf1554873e",
   "metadata": {
    "tags": []
   },
   "source": [
    "### Linear Regression"
   ]
  },
  {
   "cell_type": "code",
   "execution_count": 35,
   "id": "4455c1bc-97b5-4170-ad70-7b5259014b70",
   "metadata": {},
   "outputs": [],
   "source": [
    "lr = LinearRegression()"
   ]
  },
  {
   "cell_type": "code",
   "execution_count": 36,
   "id": "5d436952-fdd6-4a7c-b277-f398edf782c4",
   "metadata": {},
   "outputs": [
    {
     "data": {
      "text/plain": [
       "0.3055569166457742"
      ]
     },
     "execution_count": 36,
     "metadata": {},
     "output_type": "execute_result"
    }
   ],
   "source": [
    "lr.fit(x_train, y_train)\n",
    "lr.score(x_test, y_test)"
   ]
  },
  {
   "cell_type": "markdown",
   "id": "fd26e142-0b94-4726-b9d8-0361eefb02bc",
   "metadata": {},
   "source": [
    "**INSIGHT:**\n",
    "- We can see that a simple linear regression model do not fit well with this problem so we try other advanced model."
   ]
  },
  {
   "cell_type": "markdown",
   "id": "ce53abc7-51f9-4807-9ef8-d4023b9bc8c6",
   "metadata": {
    "id": "ce53abc7-51f9-4807-9ef8-d4023b9bc8c6",
    "tags": []
   },
   "source": [
    "### Random Forest Regressor"
   ]
  },
  {
   "cell_type": "code",
   "execution_count": 37,
   "id": "14d0c592-786d-4068-acac-b98c679518fa",
   "metadata": {
    "id": "14d0c592-786d-4068-acac-b98c679518fa",
    "outputId": "a26448a0-6e48-43d6-ad89-9d04e1ce84fd"
   },
   "outputs": [
    {
     "name": "stdout",
     "output_type": "stream",
     "text": [
      "r2 score: 0.8829\n"
     ]
    }
   ],
   "source": [
    "# Instantiate model\n",
    "RF_model = RandomForestRegressor(n_estimators= 650,\n",
    "                                 random_state= rs, min_samples_leaf = 0.0001)\n",
    "# Train model\n",
    "RF_model.fit(x_train, y_train)\n",
    "# # Make prediction\n",
    "y_predict = RF_model.predict(x_test)\n",
    "# score model\n",
    "rf_score = round(r2_score(y_test, y_predict), 4)\n",
    "print('r2 score: {}'.format(rf_score))"
   ]
  },
  {
   "cell_type": "code",
   "execution_count": 38,
   "id": "ef3c2e40-6693-4218-a54f-ee465391ca22",
   "metadata": {},
   "outputs": [
    {
     "data": {
      "image/png": "[encoded data removed]"
     },
     "metadata": {},
     "output_type": "display_data"
    }
   ],
   "source": [
    "# Visualize results\n",
    "Title = \"Distribution Plot of Predicted Rating Using y_test and y_predict\"\n",
    "distributionPlot(y_test, y_predict, \"Actual Ratings\", \"Predicted Ratings\", Title)"
   ]
  },
  {
   "cell_type": "markdown",
   "id": "f107d74b-efa7-4aab-bb4d-1ef8c6f676e8",
   "metadata": {
    "id": "f107d74b-efa7-4aab-bb4d-1ef8c6f676e8"
   },
   "source": [
    "### Extra Tree Regressor"
   ]
  },
  {
   "cell_type": "code",
   "execution_count": 39,
   "id": "eac75509-53b8-4795-a5c1-01eebe216738",
   "metadata": {
    "id": "eac75509-53b8-4795-a5c1-01eebe216738",
    "outputId": "dc0fcdd9-8a93-4fe8-92c5-55c8b1d60b5c"
   },
   "outputs": [
    {
     "name": "stdout",
     "output_type": "stream",
     "text": [
      "r2 score: 0.9349\n"
     ]
    }
   ],
   "source": [
    "# Instantiate model\n",
    "ET_model = ExtraTreesRegressor(n_estimators= 120)\n",
    "# Train model\n",
    "ET_model.fit(x_train, y_train)\n",
    "# Make prediction\n",
    "y_predict = ET_model.predict(x_test)\n",
    "# score model\n",
    "ext_score = round(r2_score(y_test, y_predict), 4)\n",
    "print('r2 score: {}'.format(ext_score))"
   ]
  },
  {
   "cell_type": "code",
   "execution_count": 40,
   "id": "eaebd3db-1e74-4ad5-b1e0-f7b5bce3de51",
   "metadata": {
    "tags": []
   },
   "outputs": [
    {
     "data": {
      "image/png": "[encoded data removed]"
     },
     "metadata": {},
     "output_type": "display_data"
    }
   ],
   "source": [
    "# Visualize results\n",
    "Title = \"Distribution Plot of Predicted Rating Using y_test and y_predict\"\n",
    "distributionPlot(y_test, y_predict, \"Actual Ratings\", \"Predicted Ratings\", Title)"
   ]
  },
  {
   "cell_type": "markdown",
   "id": "00a1c282-5e2c-44b8-a569-47762045d0dd",
   "metadata": {},
   "source": [
    "### Results"
   ]
  },
  {
   "cell_type": "code",
   "execution_count": 41,
   "id": "23c706af-6d81-4388-a42f-b04f9efe1ea7",
   "metadata": {},
   "outputs": [
    {
     "data": {
      "text/html": [
       "<div>\n",
       "<style scoped>\n",
       "    .dataframe tbody tr th:only-of-type {\n",
       "        vertical-align: middle;\n",
       "    }\n",
       "\n",
       "    .dataframe tbody tr th {\n",
       "        vertical-align: top;\n",
       "    }\n",
       "\n",
       "    .dataframe thead th {\n",
       "        text-align: right;\n",
       "    }\n",
       "</style>\n",
       "<table border=\"1\" class=\"dataframe\">\n",
       "  <thead>\n",
       "    <tr style=\"text-align: right;\">\n",
       "      <th></th>\n",
       "      <th>r2_score</th>\n",
       "    </tr>\n",
       "  </thead>\n",
       "  <tbody>\n",
       "    <tr>\n",
       "      <th>ExtraTrees</th>\n",
       "      <td>0.9349</td>\n",
       "    </tr>\n",
       "    <tr>\n",
       "      <th>RandomForest</th>\n",
       "      <td>0.8829</td>\n",
       "    </tr>\n",
       "  </tbody>\n",
       "</table>\n",
       "</div>"
      ],
      "text/plain": [
       "              r2_score\n",
       "ExtraTrees      0.9349\n",
       "RandomForest    0.8829"
      ]
     },
     "execution_count": 41,
     "metadata": {},
     "output_type": "execute_result"
    }
   ],
   "source": [
    "row = [[rf_score], [ext_score]]\n",
    "index = ['RandomForest', 'ExtraTrees']\n",
    "columns = ['r2_score']\n",
    "result_df = pd.DataFrame(row, columns =columns, index=index)\n",
    "result_df = result_df.sort_values(by='r2_score', ascending=False)\n",
    "result_df"
   ]
  },
  {
   "cell_type": "markdown",
   "id": "fcbe7a19-c8e2-449d-af9c-5ce106049a9e",
   "metadata": {},
   "source": [
    "##### Visualizing results"
   ]
  },
  {
   "cell_type": "code",
   "execution_count": 42,
   "id": "def19e69-e545-4fcf-b372-d45e089adeba",
   "metadata": {},
   "outputs": [
    {
     "data": {
      "image/png": "[encoded data removed]"
     },
     "metadata": {},
     "output_type": "display_data"
    }
   ],
   "source": [
    "fig = px.bar(result_df,\n",
    "             y='r2_score',\n",
    "             x=result_df.index,\n",
    "             color=result_df.index,\n",
    "             template = 'ggplot2',\n",
    "             height = 300,\n",
    "            width = 500\n",
    "            )\n",
    "\n",
    "fig.update_layout(\n",
    "    title = 'Models vs r2 score',\n",
    "    yaxis_title = 'R2 Score',\n",
    "    xaxis_title = 'Models'\n",
    ")\n",
    "   \n",
    "fig.show(renderer='png')"
   ]
  },
  {
   "cell_type": "markdown",
   "id": "e00ddbf7-446a-4464-8447-9c5d0fcb4389",
   "metadata": {
    "id": "e00ddbf7-446a-4464-8447-9c5d0fcb4389"
   },
   "source": [
    "### Save our model"
   ]
  },
  {
   "cell_type": "code",
   "execution_count": 43,
   "id": "28adb52f-fc56-449d-bab6-4102c85a3696",
   "metadata": {
    "id": "28adb52f-fc56-449d-bab6-4102c85a3696"
   },
   "outputs": [],
   "source": [
    "import pickle\n",
    "pickle.dump(ET_model, open('model.pkl','wb'))\n",
    "# model = pickle.load(open('model.pkl','rb'))"
   ]
  },
  {
   "cell_type": "markdown",
   "id": "934ab4a5-d3c1-47a8-bf82-202e16671492",
   "metadata": {
    "tags": []
   },
   "source": [
    "<a id='conclusion'></a>\n",
    "### Conclusion\n",
    "> - The Extra Tree Regressor produced the best result with an `r2 score` of `9396`\n",
    "\n",
    "<a id='limitation'></a>\n",
    "### Limitations\n",
    "> - The dataset contained null values which was dropped during the cleaning procedure\n",
    "> - Our visualization and analysis is limited to only the provided dataset.\n",
    "\n",
    "### Appendix\n",
    "> - Cafe Coffee Day, Onesta and Empire Restaurant are the top 3 most popular restaurants in Bangalore\n",
    "> - Most restaurant do not offer the option of booking a table.\n",
    "> - Most restaurant offers online order and delivery\n",
    "> - Most ratings are between 3.0 and 4.5\n",
    "> - Here the two main service types are Delivery and Dine-out\n",
    "> - Majority of restaurants charges less than 2000 for two people\n",
    "> - Five most liked dishes are Pasta, Pizza, Cocktails, Burger, Mocktails.\n",
    "> - The 3 most common type of restaurants in Bangalore are Casual Dining, Quick Bites and Cafe."
   ]
  }
 ],
 "metadata": {
  "colab": {
   "include_colab_link": true,
   "name": "Zomato_Bangalore_Restaurants.ipynb",
   "provenance": []
  },
  "kernelspec": {
   "display_name": "Python 3 (ipykernel)",
   "language": "python",
   "name": "python3"
  },
  "language_info": {
   "codemirror_mode": {
    "name": "ipython",
    "version": 3
   },
   "file_extension": ".py",
   "mimetype": "text/x-python",
   "name": "python",
   "nbconvert_exporter": "python",
   "pygments_lexer": "ipython3",
   "version": "3.10.9"
  }
 },
 "nbformat": 4,
 "nbformat_minor": 5
}
